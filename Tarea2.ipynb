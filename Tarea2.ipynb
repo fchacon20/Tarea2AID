{
 "cells": [
  {
   "cell_type": "code",
   "execution_count": 1,
   "metadata": {
    "collapsed": true
   },
   "outputs": [],
   "source": [
    "import numpy as np\n",
    "import pandas as pd\n",
    "import scipy.stats as ss\n",
    "import matplotlib.pyplot as plt\n",
    "import seaborn as sns\n",
    "from sklearn import cluster\n",
    "from sklearn import metrics\n",
    "from scipy import stats, integrate\n",
    "%matplotlib inline"
   ]
  },
  {
   "cell_type": "markdown",
   "metadata": {},
   "source": [
    "# Hepatitis"
   ]
  },
  {
   "cell_type": "markdown",
   "metadata": {},
   "source": [
    " 1. Class: DIE, LIVE\n",
    " 2. AGE: 10, 20, 30, 40, 50, 60, 70, 80\n",
    " 3. SEX: male, female\n",
    " 4. STEROID: no, yes\n",
    " 5. ANTIVIRALS: no, yes\n",
    " 6. FATIGUE: no, yes\n",
    " 7. MALAISE: no, yes\n",
    " 8. ANOREXIA: no, yes\n",
    " 9. LIVER BIG: no, yes\n",
    " 10. LIVER FIRM: no, yes\n",
    " 11. SPLEEN PALPABLE: no, yes\n",
    " 12. SPIDERS: no, yes\n",
    " 13. ASCITES: no, yes\n",
    " 14. VARICES: no, yes\n",
    " 15. BILIRUBIN: 0.39, 0.80, 1.20, 2.00, 3.00, 4.00\n",
    " 16. ALK PHOSPHATE: 33, 80, 120, 160, 200, 250\n",
    " 17. SGOT: 13, 100, 200, 300, 400, 500, \n",
    " 18. ALBUMIN: 2.1, 3.0, 3.8, 4.5, 5.0, 6.0\n",
    " 19. PROTIME: 10, 20, 30, 40, 50, 60, 70, 80, 90\n",
    " 20. HISTOLOGY: no, yes"
   ]
  },
  {
   "cell_type": "code",
   "execution_count": 2,
   "metadata": {},
   "outputs": [],
   "source": [
    "df1 = pd.read_csv('data/hepatitis.data')"
   ]
  },
  {
   "cell_type": "code",
   "execution_count": 3,
   "metadata": {},
   "outputs": [],
   "source": [
    "#Quitar las filas que tengan missing values '?'\n",
    "index = []\n",
    "for i in range(df1.shape[0]):\n",
    "    if('?' in df1.iloc[i].values):\n",
    "        index.append(i)\n",
    "df1 = df1.drop(index)        "
   ]
  },
  {
   "cell_type": "code",
   "execution_count": 4,
   "metadata": {},
   "outputs": [],
   "source": [
    "#Sacar la columna Class, que es la que se intenta predecir\n",
    "df1 = df1.drop('Class',axis=1)"
   ]
  },
  {
   "cell_type": "code",
   "execution_count": 5,
   "metadata": {
    "collapsed": true
   },
   "outputs": [],
   "source": [
    "mat = df1.as_matrix()"
   ]
  },
  {
   "cell_type": "markdown",
   "metadata": {},
   "source": [
    "## Clustering\n",
    "\n",
    "Algoritmos de Clustering sobre la data 'Hepatitis' para separar a las personas en dos clasificaciones (clases): DIE o LIVE"
   ]
  },
  {
   "cell_type": "markdown",
   "metadata": {},
   "source": [
    "### K-Means"
   ]
  },
  {
   "cell_type": "code",
   "execution_count": 6,
   "metadata": {
    "scrolled": true
   },
   "outputs": [
    {
     "data": {
      "text/plain": [
       "KMeans(algorithm='auto', copy_x=True, init='k-means++', max_iter=300,\n",
       "    n_clusters=2, n_init=10, n_jobs=1, precompute_distances='auto',\n",
       "    random_state=None, tol=0.0001, verbose=0)"
      ]
     },
     "execution_count": 6,
     "metadata": {},
     "output_type": "execute_result"
    }
   ],
   "source": [
    "kmeans = cluster.KMeans(n_clusters=2)\n",
    "kmeans.fit(mat)"
   ]
  },
  {
   "cell_type": "code",
   "execution_count": 7,
   "metadata": {},
   "outputs": [
    {
     "name": "stdout",
     "output_type": "stream",
     "text": [
      "Silhouette Coefficient: 0.482762\n"
     ]
    }
   ],
   "source": [
    "print(\"Silhouette Coefficient: %0.6f\"\n",
    "      % metrics.silhouette_score(mat, kmeans.labels_))"
   ]
  },
  {
   "cell_type": "markdown",
   "metadata": {},
   "source": [
    "### Average Linkage"
   ]
  },
  {
   "cell_type": "code",
   "execution_count": 8,
   "metadata": {},
   "outputs": [
    {
     "data": {
      "text/plain": [
       "AgglomerativeClustering(affinity='cityblock', compute_full_tree='auto',\n",
       "            connectivity=None, linkage='average', memory=None,\n",
       "            n_clusters=2, pooling_func=<function mean at 0x7efff80f9400>)"
      ]
     },
     "execution_count": 8,
     "metadata": {},
     "output_type": "execute_result"
    }
   ],
   "source": [
    "algoritmo = cluster.AgglomerativeClustering(linkage=\"average\", \n",
    "                                            affinity=\"cityblock\", n_clusters=2)\n",
    "# Linkage: complete, average, ward\n",
    "# Affinity: “euclidean”, “l1”, “l2”, “manhattan”, \"cityblock\", “cosine”, o ‘precomputed’\n",
    "algoritmo.fit(mat)"
   ]
  },
  {
   "cell_type": "code",
   "execution_count": 9,
   "metadata": {},
   "outputs": [
    {
     "name": "stdout",
     "output_type": "stream",
     "text": [
      "Silhouette Coefficient: 0.671057\n"
     ]
    }
   ],
   "source": [
    "print(\"Silhouette Coefficient: %0.6f\"\n",
    "      % metrics.silhouette_score(mat, algoritmo.labels_))"
   ]
  },
  {
   "cell_type": "markdown",
   "metadata": {},
   "source": [
    "### Mean Shift"
   ]
  },
  {
   "cell_type": "code",
   "execution_count": 10,
   "metadata": {},
   "outputs": [
    {
     "data": {
      "text/plain": [
       "MeanShift(bandwidth=59.752845675029263, bin_seeding=True, cluster_all=True,\n",
       "     min_bin_freq=1, n_jobs=1, seeds=None)"
      ]
     },
     "execution_count": 10,
     "metadata": {},
     "output_type": "execute_result"
    }
   ],
   "source": [
    "ancho_banda = cluster.estimate_bandwidth(mat, quantile=0.15)\n",
    "mean_shift_alg = cluster.MeanShift(bandwidth=ancho_banda, bin_seeding=True)\n",
    "mean_shift_alg.fit(mat)"
   ]
  },
  {
   "cell_type": "code",
   "execution_count": 11,
   "metadata": {},
   "outputs": [
    {
     "name": "stdout",
     "output_type": "stream",
     "text": [
      "Silhouette Coefficient: 0.368808\n"
     ]
    }
   ],
   "source": [
    "print(\"Silhouette Coefficient: %0.6f\"\n",
    "      % metrics.silhouette_score(mat, mean_shift_alg.labels_))"
   ]
  },
  {
   "cell_type": "code",
   "execution_count": null,
   "metadata": {
    "collapsed": true
   },
   "outputs": [],
   "source": []
  },
  {
   "cell_type": "markdown",
   "metadata": {},
   "source": [
    "## Clasificadores"
   ]
  },
  {
   "cell_type": "markdown",
   "metadata": {},
   "source": [
    "## PCA"
   ]
  },
  {
   "cell_type": "markdown",
   "metadata": {},
   "source": [
    "# Pima Indian Diabetes"
   ]
  },
  {
   "cell_type": "markdown",
   "metadata": {},
   "source": [
    "1. Number of times pregnant\n",
    "2. Plasma glucose concentration a 2 hours in an oral glucose tolerance test\n",
    "3. Diastolic blood pressure (mm Hg)\n",
    "4. Triceps skin fold thickness (mm)\n",
    "5. 2-Hour serum insulin (mu U/ml)\n",
    "6. Body mass index (weight in kg/(height in m)^2)\n",
    "7. Diabetes pedigree function\n",
    "8. Age (years)\n",
    "9. Class variable (0 or 1)"
   ]
  },
  {
   "cell_type": "code",
   "execution_count": null,
   "metadata": {
    "collapsed": true
   },
   "outputs": [],
   "source": [
    "df2 = pd.read_csv('data/diabetes.data')"
   ]
  },
  {
   "cell_type": "markdown",
   "metadata": {},
   "source": [
    "# Water Treatment Plant"
   ]
  },
  {
   "cell_type": "markdown",
   "metadata": {},
   "source": [
    "|N. | Identificador | Descripción |\n",
    "| -- |:---:|:---|\n",
    "| 1 | Q-E       | (input flow to plant)   |\n",
    "| 2 | ZN-E      | (input Zinc to plant) |\n",
    "| 3 | PH-E      | (input pH to plant)  |\n",
    "| 4 | DBO-E     | (input Biological demand of oxygen to plant)  |\n",
    "| 5 | DQO-E     | (input chemical demand of oxygen to plant) |\n",
    "| 6 | SS-E      | (input suspended solids to plant)   |\n",
    "| 7 | SSV-E     | (input volatile supended solids to plant) |\n",
    "| 8 | SED-E     | (input sediments to plant)  |\n",
    "| 9 | COND-E    | (input conductivity to plant)  |\n",
    "|10 | PH-P      | (input pH to primary settler) |\n",
    "|11 | DBO-P     | (input Biological demand of oxygen to primary settler) |\n",
    "|12 | SS-P      | (input suspended solids to primary settler) |\n",
    "|13 | SSV-P     | (input volatile supended solids to primary settler) |\n",
    "|14 | SED-P     | (input sediments to primary settler)  |\n",
    "|15 | COND-P    | (input conductivity to primary settler) |\n",
    "|16 | PH-D      | (input pH to secondary settler)  |\n",
    "|17 | DBO-D     | (input Biological demand of oxygen to secondary settler) |\n",
    "|18 | DQO-D     | (input chemical demand of oxygen to secondary settler) |\n",
    "|19 | SS-D      | (input suspended solids to secondary settler) |\n",
    "|20 | SSV-D     | (input volatile supended solids to secondary settler) |\n",
    "|21 | SED-D     | (input sediments to secondary settler)   |\n",
    "|22 | COND-D    | (input conductivity to secondary settler)  |\n",
    "|23 | PH-S      | (output pH)    |\n",
    "|24 | DBO-S     | (output Biological demand of oxygen) |\n",
    "|25 | DQO-S     | (output chemical demand of oxygen) |\n",
    "|26 | SS-S      | (output suspended solids) |\n",
    "|27 | SSV-S     | (output volatile supended solids)  |\n",
    "|28 | SED-S     | (output sediments)  |\n",
    "|29 | COND-S    | (output conductivity) |\n",
    "|30 | RD-DBO-P  | (performance input Biological demand of oxygen in primary settler) |\n",
    "|31 | RD-SS-P   | (performance input suspended solids to primary settler) |\n",
    "|32 | RD-SED-P  | (performance input sediments to primary settler) |\n",
    "|33 | RD-DBO-S  | (performance input Biological demand of oxygen to secondary settler) |\n",
    "|34 | RD-DQO-S  | (performance input chemical demand of oxygen to secondary settler) |\n",
    "|35 | RD-DBO-G  | (global performance input Biological demand of oxygen) |\n",
    "|36 | RD-DQO-G  | (global performance input chemical demand of oxygen) |\n",
    "|37 | RD-SS-G   | (global performance input suspended solids)  |\n",
    "|38 | RD-SED-G  | (global performance input sediments) |"
   ]
  },
  {
   "cell_type": "code",
   "execution_count": 2,
   "metadata": {
    "collapsed": true
   },
   "outputs": [],
   "source": [
    "df3 = pd.read_csv('data/water-treatment.data')"
   ]
  },
  {
   "cell_type": "code",
   "execution_count": null,
   "metadata": {
    "collapsed": true
   },
   "outputs": [],
   "source": []
  }
 ],
 "metadata": {
  "kernelspec": {
   "display_name": "Python 3",
   "language": "python",
   "name": "python3"
  },
  "language_info": {
   "codemirror_mode": {
    "name": "ipython",
    "version": 3
   },
   "file_extension": ".py",
   "mimetype": "text/x-python",
   "name": "python",
   "nbconvert_exporter": "python",
   "pygments_lexer": "ipython3",
   "version": "3.6.2"
  }
 },
 "nbformat": 4,
 "nbformat_minor": 2
}
